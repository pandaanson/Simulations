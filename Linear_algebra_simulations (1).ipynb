{
  "nbformat": 4,
  "nbformat_minor": 0,
  "metadata": {
    "colab": {
      "provenance": []
    },
    "kernelspec": {
      "name": "python3",
      "display_name": "Python 3"
    },
    "language_info": {
      "name": "python"
    }
  },
  "cells": [
    {
      "cell_type": "code",
      "execution_count": 17,
      "metadata": {
        "id": "XA3mxhqQMV_z"
      },
      "outputs": [],
      "source": [
        "#Parameters\n",
        "import random\n",
        "NumberofPlayer=1000\n",
        "loop=100000"
      ]
    },
    {
      "cell_type": "code",
      "source": [
        "#init\n",
        "def mock(N):\n",
        "  N=NumberofPlayer\n",
        "  number=[0]*N\n",
        "  index=[0]*N\n",
        "  total=0\n",
        "  obserabletotal=[0]*N\n",
        "  for i in range(N):\n",
        "    number[i]=random.randint(1, N)\n",
        "    index[i]=i+1\n",
        "    total+=number[i]\n",
        "  for i in range(N):\n",
        "    obserabletotal[i]=total-number[i]\n",
        "  #Now we have 3 array index, number they have and the total they oberve\n",
        "\n",
        "  #guess\n",
        "  #Strategy: Have the guess g(i) statisfly following equation\n",
        "  #(g{i}+sum of other total)mod N=index of that player\n",
        "  #index of each player is go from 1 to N\n",
        "  guess=[0]*N\n",
        "  for i in range(N):\n",
        "    temp=obserabletotal[i]%N\n",
        "    if temp<index[i]:\n",
        "      guess[i]=index[i]-temp\n",
        "    else:\n",
        "      guess[i]=index[i]-temp+N\n",
        "  # print(\"index:\")\n",
        "  # print(index)\n",
        "  # print(\"number:\")\n",
        "  # print(number)\n",
        "  # print(\"obserabletotal:\")\n",
        "  # print(obserabletotal)\n",
        "  # print(\"guess\")\n",
        "  # print(guess)\n",
        "\n",
        "  #check\n",
        "  for i in range(N):\n",
        "    if guess[i]==number[i]:\n",
        "      return \"Yes\"\n",
        "  #If fail, ouput all array\n",
        "  print(\"index:\")\n",
        "  print(index)\n",
        "  print(\"number:\")\n",
        "  print(number)\n",
        "  print(\"obserabletotal:\")\n",
        "  print(obserabletotal)\n",
        "  print(\"guess\")\n",
        "  print(guess)\n",
        "  return \"False\"\n",
        "\n",
        "\n",
        "    \n",
        "def test_wrapper(loop):\n",
        "  for _ in range(loop):\n",
        "    if mock(N)==\"False\":\n",
        "      print(\"Fuckedup\")\n",
        "      break\n",
        "  print(\"Great\")\n"
      ],
      "metadata": {
        "id": "7LcXnaqGM4_x"
      },
      "execution_count": 18,
      "outputs": []
    },
    {
      "cell_type": "code",
      "source": [
        "#Run\n",
        "test_wrapper(loop)"
      ],
      "metadata": {
        "colab": {
          "base_uri": "https://localhost:8080/"
        },
        "id": "jlc_zBSrNmyo",
        "outputId": "a33c16aa-1f76-40c1-b747-b679463200a4"
      },
      "execution_count": 16,
      "outputs": [
        {
          "output_type": "stream",
          "name": "stdout",
          "text": [
            "Great\n"
          ]
        }
      ]
    }
  ]
}